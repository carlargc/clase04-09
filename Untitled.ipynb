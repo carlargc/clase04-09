{
 "cells": [
  {
   "cell_type": "code",
   "execution_count": 1,
   "id": "34737add-e1db-4214-a680-afc87001a427",
   "metadata": {},
   "outputs": [
    {
     "name": "stdout",
     "output_type": "stream",
     "text": [
      "hola mundo \n"
     ]
    }
   ],
   "source": [
    "print(\"hola mundo \")"
   ]
  },
  {
   "cell_type": "code",
   "execution_count": 2,
   "id": "ccb1f602-73bd-4e31-a689-bdcff846f0a3",
   "metadata": {},
   "outputs": [
    {
     "name": "stdout",
     "output_type": "stream",
     "text": [
      "6\n"
     ]
    }
   ],
   "source": [
    "a=1\n",
    "b=5\n",
    "total=a+b\n",
    "print(total)"
   ]
  },
  {
   "cell_type": "code",
   "execution_count": null,
   "id": "2488245c-1e9e-4879-a2a5-49aac737fe5f",
   "metadata": {},
   "outputs": [],
   "source": []
  }
 ],
 "metadata": {
  "kernelspec": {
   "display_name": "Python 3 (ipykernel)",
   "language": "python",
   "name": "python3"
  },
  "language_info": {
   "codemirror_mode": {
    "name": "ipython",
    "version": 3
   },
   "file_extension": ".py",
   "mimetype": "text/x-python",
   "name": "python",
   "nbconvert_exporter": "python",
   "pygments_lexer": "ipython3",
   "version": "3.13.5"
  }
 },
 "nbformat": 4,
 "nbformat_minor": 5
}
